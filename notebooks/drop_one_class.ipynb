{
 "cells": [
  {
   "cell_type": "code",
   "execution_count": 1,
   "id": "a029837d-b2ac-4b47-ab12-88eaa7e62355",
   "metadata": {
    "tags": []
   },
   "outputs": [],
   "source": [
    "import os\n",
    "import glob \n",
    "import numpy as np\n",
    "import pandas as pd\n",
    "from tqdm import tqdm"
   ]
  },
  {
   "cell_type": "code",
   "execution_count": 2,
   "id": "36e6bff0-fed2-444e-a607-98e9e557c3c4",
   "metadata": {
    "tags": []
   },
   "outputs": [],
   "source": [
    "def read_file(lbpath):\n",
    "    fl = open(lbpath, 'r')\n",
    "    data = fl.readlines()\n",
    "    fl.close()\n",
    "    \n",
    "    return data"
   ]
  },
  {
   "cell_type": "code",
   "execution_count": 3,
   "id": "ba017445-483b-48a8-be87-db9d2d58dee3",
   "metadata": {
    "tags": []
   },
   "outputs": [],
   "source": [
    "def save_file(filename, content):\n",
    "    \n",
    "    with open(filename, 'w') as f:\n",
    "        f.writelines(content)"
   ]
  },
  {
   "cell_type": "code",
   "execution_count": 4,
   "id": "56d961cd-3493-4cbb-adf2-a24ace6fbbfe",
   "metadata": {
    "tags": []
   },
   "outputs": [],
   "source": [
    "def clear_class(lbpath, target=0):\n",
    "    annots = read_file(lbpath)\n",
    "    labels = []\n",
    "    \n",
    "    for annot in annots:\n",
    "        c, _, _, _, _ = annot.split(' ')\n",
    "        if int(c) == target:\n",
    "            labels.append(annot)\n",
    "            \n",
    "    return labels"
   ]
  },
  {
   "cell_type": "markdown",
   "id": "ab02b53a-96c1-4bf4-9ec2-2d2dbf84d0bb",
   "metadata": {},
   "source": [
    "## Loop"
   ]
  },
  {
   "cell_type": "code",
   "execution_count": 5,
   "id": "65564bd9-8fbf-425e-a6b6-2ef2fd2a958d",
   "metadata": {
    "tags": []
   },
   "outputs": [],
   "source": [
    "def process_fold(xmls):\n",
    "    for xml in xmls:\n",
    "        targets = clear_class(xml, target=0)\n",
    "        save_file(xml, targets)"
   ]
  },
  {
   "cell_type": "code",
   "execution_count": 6,
   "id": "6342854c-fe59-4682-a9a1-96283e9d5b57",
   "metadata": {
    "tags": []
   },
   "outputs": [],
   "source": [
    "folds = np.arange(1, 11)\n",
    "folders = ['train', 'test', 'val']"
   ]
  },
  {
   "cell_type": "code",
   "execution_count": 7,
   "id": "e5daf024-67b8-42a3-85ad-44a10a128ce2",
   "metadata": {
    "tags": []
   },
   "outputs": [
    {
     "name": "stderr",
     "output_type": "stream",
     "text": [
      "100%|██████████| 10/10 [00:00<00:00, 113.66it/s]\n"
     ]
    }
   ],
   "source": [
    "for fold in tqdm(folds):\n",
    "    for folder in folders:\n",
    "        xmls = glob.glob(f'fold_{fold}/{folder}/labels/*.txt')\n",
    "        process_fold(xmls)"
   ]
  },
  {
   "cell_type": "code",
   "execution_count": null,
   "id": "a77d3e24-6385-418c-a3d6-cf82d0766e10",
   "metadata": {},
   "outputs": [],
   "source": []
  }
 ],
 "metadata": {
  "kernelspec": {
   "display_name": "Python 3",
   "language": "python",
   "name": "python3"
  },
  "language_info": {
   "codemirror_mode": {
    "name": "ipython",
    "version": 3
   },
   "file_extension": ".py",
   "mimetype": "text/x-python",
   "name": "python",
   "nbconvert_exporter": "python",
   "pygments_lexer": "ipython3",
   "version": "3.8.10"
  }
 },
 "nbformat": 4,
 "nbformat_minor": 5
}
